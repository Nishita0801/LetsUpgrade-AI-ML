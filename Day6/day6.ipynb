{
  "nbformat": 4,
  "nbformat_minor": 0,
  "metadata": {
    "colab": {
      "name": "day6.ipynb",
      "provenance": []
    },
    "kernelspec": {
      "name": "python3",
      "display_name": "Python 3"
    }
  },
  "cells": [
    {
      "cell_type": "markdown",
      "metadata": {
        "id": "nUUhUQDx0Fwz",
        "colab_type": "text"
      },
      "source": [
        "**Question 1:**\n",
        "Assuming that we have some email addresses in the \"username@companyname.com\" format, please write program\n",
        "to print the company name of a given email address. Both user names and company names are composed of letters\n",
        "only.\n"
      ]
    },
    {
      "cell_type": "code",
      "metadata": {
        "id": "TiKLeDpIz-ec",
        "colab_type": "code",
        "colab": {}
      },
      "source": [
        "def format(email):\n",
        "  a = email.index('@')\n",
        "  b = email.index('.')\n",
        "  ans = email[a+1:b]\n",
        "  return ans\n",
        "email = str(input(\"Enter the email : \"))\n",
        "print(format(email))"
      ],
      "execution_count": null,
      "outputs": []
    },
    {
      "cell_type": "markdown",
      "metadata": {
        "id": "VSs8FEHRTT3d",
        "colab_type": "text"
      },
      "source": [
        "**Question 2:**\n",
        "Write a program that accepts a comma-separated sequence of words as input and prints the words in a comma\n",
        "separated sequence after sorting them alphabetically."
      ]
    },
    {
      "cell_type": "code",
      "metadata": {
        "id": "NZgSm90_TUVv",
        "colab_type": "code",
        "colab": {}
      },
      "source": [
        "userList = str(input(\"enter the comma-separated sequence of words : \"))\n",
        "n = userList.split(\",\")\n",
        "m = sorted(n)\n",
        "print(\",\".join(m))"
      ],
      "execution_count": null,
      "outputs": []
    },
    {
      "cell_type": "markdown",
      "metadata": {
        "id": "bqDcOTdKiNrw",
        "colab_type": "text"
      },
      "source": [
        "**Question 3:**\n",
        "Create your own Jupyter Notebook for Sets"
      ]
    },
    {
      "cell_type": "markdown",
      "metadata": {
        "id": "r2IjA-IIiSFD",
        "colab_type": "text"
      },
      "source": [
        "***Answer is in this file*** https://colab.research.google.com/drive/1DMgutj70xsKzUTxcalcQmdnc9kKZpY4Y#scrollTo=sip0o6sToN1d"
      ]
    },
    {
      "cell_type": "markdown",
      "metadata": {
        "id": "YTYDNVd8htRm",
        "colab_type": "text"
      },
      "source": [
        "**Question 4:**\n",
        "Given a list of n-1 numbers ranging from 1 to n, your task is to find the missing number. There are no duplicates."
      ]
    },
    {
      "cell_type": "code",
      "metadata": {
        "id": "rvAqDwLdhsBF",
        "colab_type": "code",
        "colab": {}
      },
      "source": [
        "def getMissingNo(A): \n",
        "    n = len(A) \n",
        "    total = (n + 1)*(n + 2)/2\n",
        "    sum_of_A = sum(A) \n",
        "    return total - sum_of_A \n",
        "A = list(map(int,input(\"Enter the list :\").split(\" \")))\n",
        "miss = getMissingNo(A) \n",
        "print(int(miss)) "
      ],
      "execution_count": null,
      "outputs": []
    },
    {
      "cell_type": "markdown",
      "metadata": {
        "id": "YbfXvAjr0EgR",
        "colab_type": "text"
      },
      "source": [
        "**Question 5:**\n",
        "With a given list L, write a program to print this list L after removing all duplicate values with original order reserved."
      ]
    },
    {
      "cell_type": "code",
      "metadata": {
        "id": "L1B4tz2lWhoE",
        "colab_type": "code",
        "colab": {}
      },
      "source": [
        "L = list(map(int,input(\"Enter the list :\").split(\" \")))\n",
        "d = list(set(L))\n",
        "#d = list(c)\n",
        "#print(d)\n",
        "d.sort()\n",
        "for i in range(len(d)):\n",
        "  print(d[i], end=\" \")"
      ],
      "execution_count": null,
      "outputs": []
    }
  ]
}