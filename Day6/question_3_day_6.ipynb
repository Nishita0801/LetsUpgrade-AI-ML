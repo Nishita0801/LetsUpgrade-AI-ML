{
  "nbformat": 4,
  "nbformat_minor": 0,
  "metadata": {
    "colab": {
      "name": "question 3 day 6.ipynb",
      "provenance": [],
      "collapsed_sections": []
    },
    "kernelspec": {
      "name": "python3",
      "display_name": "Python 3"
    }
  },
  "cells": [
    {
      "cell_type": "markdown",
      "metadata": {
        "id": "S1BF71a6jLad",
        "colab_type": "text"
      },
      "source": [
        "**Question 3:\n",
        "Create your own Jupyter Notebook for Sets**"
      ]
    },
    {
      "cell_type": "markdown",
      "metadata": {
        "id": "7l-Hfx9Qk22K",
        "colab_type": "text"
      },
      "source": [
        "# **1. Create a Set:**"
      ]
    },
    {
      "cell_type": "code",
      "metadata": {
        "id": "VA9tHKCTiXHL",
        "colab_type": "code",
        "colab": {
          "base_uri": "https://localhost:8080/",
          "height": 34
        },
        "outputId": "eff4e87e-234c-4733-ee1d-e95c51df6767"
      },
      "source": [
        "languages = {\"Python\" , \"C++\" , \"Java\"}\n",
        "print(languages)"
      ],
      "execution_count": 13,
      "outputs": [
        {
          "output_type": "stream",
          "text": [
            "{'C++', 'Python', 'Java'}\n"
          ],
          "name": "stdout"
        }
      ]
    },
    {
      "cell_type": "markdown",
      "metadata": {
        "id": "s4_SJQy3lhQY",
        "colab_type": "text"
      },
      "source": [
        "# **2. Access Items**"
      ]
    },
    {
      "cell_type": "code",
      "metadata": {
        "id": "npo7Ivzdln5m",
        "colab_type": "code",
        "colab": {
          "base_uri": "https://localhost:8080/",
          "height": 85
        },
        "outputId": "d7867673-c25a-4654-c6f9-d49c53b4dd9c"
      },
      "source": [
        "for i in languages:\n",
        "  print(i)\n",
        "print(\"Python\" in languages)"
      ],
      "execution_count": 14,
      "outputs": [
        {
          "output_type": "stream",
          "text": [
            "C++\n",
            "Python\n",
            "Java\n",
            "True\n"
          ],
          "name": "stdout"
        }
      ]
    },
    {
      "cell_type": "markdown",
      "metadata": {
        "id": "Z4ztQDUDl4zq",
        "colab_type": "text"
      },
      "source": [
        "# **3. Add Items**"
      ]
    },
    {
      "cell_type": "code",
      "metadata": {
        "id": "-5ZLFlw6mZSa",
        "colab_type": "code",
        "colab": {
          "base_uri": "https://localhost:8080/",
          "height": 34
        },
        "outputId": "517c63b5-d80b-482c-d022-9b409b6370aa"
      },
      "source": [
        "languages.add(\"Javascipt\")\n",
        "print(languages)\n"
      ],
      "execution_count": 15,
      "outputs": [
        {
          "output_type": "stream",
          "text": [
            "{'C++', 'Javascipt', 'Python', 'Java'}\n"
          ],
          "name": "stdout"
        }
      ]
    },
    {
      "cell_type": "markdown",
      "metadata": {
        "id": "Em4f6wBknp9N",
        "colab_type": "text"
      },
      "source": [
        "**Add multiple items to a set, using the update() method:**"
      ]
    },
    {
      "cell_type": "code",
      "metadata": {
        "id": "h3OjyeTenvpS",
        "colab_type": "code",
        "colab": {
          "base_uri": "https://localhost:8080/",
          "height": 34
        },
        "outputId": "b3bb069d-1f19-4b66-9b2c-5ab944aacd94"
      },
      "source": [
        "languages.update([\"HTML\" , \"CSS\" , \"JS node\"])\n",
        "print(languages)"
      ],
      "execution_count": 17,
      "outputs": [
        {
          "output_type": "stream",
          "text": [
            "{'HTML', 'Javascipt', 'Java', 'Python', 'C++', 'JS node', 'CSS'}\n"
          ],
          "name": "stdout"
        }
      ]
    },
    {
      "cell_type": "markdown",
      "metadata": {
        "id": "RFXoQiijoHXG",
        "colab_type": "text"
      },
      "source": [
        "# **4. Get the Length of a Set**"
      ]
    },
    {
      "cell_type": "code",
      "metadata": {
        "id": "sip0o6sToN1d",
        "colab_type": "code",
        "colab": {}
      },
      "source": [
        "print(len(languages))"
      ],
      "execution_count": null,
      "outputs": []
    },
    {
      "cell_type": "markdown",
      "metadata": {
        "id": "tUdnePqaoVSr",
        "colab_type": "text"
      },
      "source": [
        "# **5. Remove Item**"
      ]
    },
    {
      "cell_type": "code",
      "metadata": {
        "id": "1e6AnZnqoZo1",
        "colab_type": "code",
        "colab": {
          "base_uri": "https://localhost:8080/",
          "height": 34
        },
        "outputId": "e9ffcb0b-0a8b-4a65-b6a7-2934234060a4"
      },
      "source": [
        "languages.remove(\"CSS\")\n",
        "print(languages)"
      ],
      "execution_count": 19,
      "outputs": [
        {
          "output_type": "stream",
          "text": [
            "{'HTML', 'Javascipt', 'Java', 'Python', 'C++', 'JS node'}\n"
          ],
          "name": "stdout"
        }
      ]
    },
    {
      "cell_type": "markdown",
      "metadata": {
        "id": "zkUDMogG7t_1",
        "colab_type": "text"
      },
      "source": [
        "# **6. Difference**"
      ]
    },
    {
      "cell_type": "code",
      "metadata": {
        "id": "r5SvyPtF7zL9",
        "colab_type": "code",
        "colab": {
          "base_uri": "https://localhost:8080/",
          "height": 34
        },
        "outputId": "3f87eed3-9178-4fc4-ea85-5eedfe1192ea"
      },
      "source": [
        "x = {\"apple\", \"banana\", \"cherry\"}\n",
        "y = {\"google\", \"microsoft\", \"apple\"}\n",
        "z = x.difference(y)\n",
        "print(z)"
      ],
      "execution_count": 20,
      "outputs": [
        {
          "output_type": "stream",
          "text": [
            "{'cherry', 'banana'}\n"
          ],
          "name": "stdout"
        }
      ]
    },
    {
      "cell_type": "markdown",
      "metadata": {
        "id": "uOj3CIbD75p7",
        "colab_type": "text"
      },
      "source": [
        "# **7. Intersection**"
      ]
    },
    {
      "cell_type": "code",
      "metadata": {
        "id": "CrEiRvkq8D_E",
        "colab_type": "code",
        "colab": {
          "base_uri": "https://localhost:8080/",
          "height": 34
        },
        "outputId": "3b3b1052-4124-494a-b333-ad752ac440b9"
      },
      "source": [
        "x = {\"apple\", \"banana\", \"cherry\"}\n",
        "y = {\"google\", \"microsoft\", \"apple\"}\n",
        "z = x.intersection(y)\n",
        "print(z)"
      ],
      "execution_count": 21,
      "outputs": [
        {
          "output_type": "stream",
          "text": [
            "{'apple'}\n"
          ],
          "name": "stdout"
        }
      ]
    },
    {
      "cell_type": "markdown",
      "metadata": {
        "id": "J1TIwDaP8PJ8",
        "colab_type": "text"
      },
      "source": [
        "# **8. Union**"
      ]
    },
    {
      "cell_type": "code",
      "metadata": {
        "id": "gJRjxQjz8SKa",
        "colab_type": "code",
        "colab": {
          "base_uri": "https://localhost:8080/",
          "height": 34
        },
        "outputId": "16d23684-3314-4e35-e4e5-e13567205cb1"
      },
      "source": [
        "x = {\"apple\", \"banana\", \"cherry\"}\n",
        "y = {\"google\", \"microsoft\", \"apple\"}\n",
        "z = x.union(y)\n",
        "print(z)"
      ],
      "execution_count": 22,
      "outputs": [
        {
          "output_type": "stream",
          "text": [
            "{'apple', 'microsoft', 'cherry', 'google', 'banana'}\n"
          ],
          "name": "stdout"
        }
      ]
    },
    {
      "cell_type": "markdown",
      "metadata": {
        "id": "0IguYVpL8VMb",
        "colab_type": "text"
      },
      "source": [
        "# **9. Pop**"
      ]
    },
    {
      "cell_type": "code",
      "metadata": {
        "id": "1Y7rO77H9x5h",
        "colab_type": "code",
        "colab": {
          "base_uri": "https://localhost:8080/",
          "height": 34
        },
        "outputId": "b86d17c3-432d-4d71-96fb-fc1504f7ba43"
      },
      "source": [
        "fruits = {\"apple\", \"banana\", \"cherry\"}\n",
        "x = fruits.pop()\n",
        "print(x)"
      ],
      "execution_count": 23,
      "outputs": [
        {
          "output_type": "stream",
          "text": [
            "cherry\n"
          ],
          "name": "stdout"
        }
      ]
    },
    {
      "cell_type": "markdown",
      "metadata": {
        "id": "JKjK4EyP-AHx",
        "colab_type": "text"
      },
      "source": [
        "# **10. Clear**"
      ]
    },
    {
      "cell_type": "code",
      "metadata": {
        "id": "mG6QhHzL-De6",
        "colab_type": "code",
        "colab": {
          "base_uri": "https://localhost:8080/",
          "height": 34
        },
        "outputId": "f73cb61b-7825-412e-bf92-bad60e07fdf7"
      },
      "source": [
        "languages.clear()\n",
        "print(languages)"
      ],
      "execution_count": 25,
      "outputs": [
        {
          "output_type": "stream",
          "text": [
            "set()\n"
          ],
          "name": "stdout"
        }
      ]
    }
  ]
}