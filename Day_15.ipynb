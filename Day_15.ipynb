{
  "nbformat": 4,
  "nbformat_minor": 0,
  "metadata": {
    "kernelspec": {
      "display_name": "Python 3",
      "language": "python",
      "name": "python3"
    },
    "language_info": {
      "codemirror_mode": {
        "name": "ipython",
        "version": 3
      },
      "file_extension": ".py",
      "mimetype": "text/x-python",
      "name": "python",
      "nbconvert_exporter": "python",
      "pygments_lexer": "ipython3",
      "version": "3.7.4"
    },
    "colab": {
      "name": "Day 15.ipynb",
      "provenance": [],
      "collapsed_sections": []
    }
  },
  "cells": [
    {
      "cell_type": "markdown",
      "metadata": {
        "id": "apzc0J38FkkM",
        "colab_type": "text"
      },
      "source": [
        "# 1. Create a 3x3x3 array with random values "
      ]
    },
    {
      "cell_type": "code",
      "metadata": {
        "id": "XYPhhkMzFkkY",
        "colab_type": "code",
        "colab": {
          "base_uri": "https://localhost:8080/",
          "height": 105
        },
        "outputId": "636c7a31-7718-4c9c-ec21-7827e5b1cb54"
      },
      "source": [
        " import numpy as np\n",
        "x= np.random.random((3,3))\n",
        "print(\"Array:\")\n",
        "print(x)"
      ],
      "execution_count": null,
      "outputs": [
        {
          "output_type": "stream",
          "text": [
            "Array:\n",
            "[[0.52477296 0.05623654 0.60540597]\n",
            " [0.31019055 0.37688209 0.84570336]\n",
            " [0.16383089 0.43095503 0.82020492]]\n"
          ],
          "name": "stdout"
        }
      ]
    },
    {
      "cell_type": "markdown",
      "metadata": {
        "id": "9VKbq1ZXFkk0",
        "colab_type": "text"
      },
      "source": [
        "# 2.Create a 5x5 matrix with values 1,2,3,4 just below the diagonal"
      ]
    },
    {
      "cell_type": "code",
      "metadata": {
        "id": "VY8rGCdCFkk5",
        "colab_type": "code",
        "colab": {
          "base_uri": "https://localhost:8080/",
          "height": 102
        },
        "outputId": "a50c334b-ecf8-4ff7-bf01-b5be36c6a46b"
      },
      "source": [
        "import numpy as np\n",
        "d=np.diag(1+np.arange(4),k=-1)\n",
        "print(d)"
      ],
      "execution_count": null,
      "outputs": [
        {
          "output_type": "stream",
          "text": [
            "[[0 0 0 0 0]\n",
            " [1 0 0 0 0]\n",
            " [0 2 0 0 0]\n",
            " [0 0 3 0 0]\n",
            " [0 0 0 4 0]]\n"
          ],
          "name": "stdout"
        }
      ]
    },
    {
      "cell_type": "markdown",
      "metadata": {
        "id": "AiHVJQiCFklP",
        "colab_type": "text"
      },
      "source": [
        "# 3.Create a 8x8 matrix and fill it with a checkerboard pattern"
      ]
    },
    {
      "cell_type": "code",
      "metadata": {
        "id": "9MxKqQnAFklT",
        "colab_type": "code",
        "colab": {
          "base_uri": "https://localhost:8080/",
          "height": 153
        },
        "outputId": "033e03f4-a6e0-4c82-ee42-d7b1e687b5ae"
      },
      "source": [
        "import numpy as np\n",
        "Z=np.zeros((8,8))\n",
        "Z[1::2,::2]=1\n",
        "Z[::2,1::2]=1\n",
        "print(Z)"
      ],
      "execution_count": null,
      "outputs": [
        {
          "output_type": "stream",
          "text": [
            "[[0. 1. 0. 1. 0. 1. 0. 1.]\n",
            " [1. 0. 1. 0. 1. 0. 1. 0.]\n",
            " [0. 1. 0. 1. 0. 1. 0. 1.]\n",
            " [1. 0. 1. 0. 1. 0. 1. 0.]\n",
            " [0. 1. 0. 1. 0. 1. 0. 1.]\n",
            " [1. 0. 1. 0. 1. 0. 1. 0.]\n",
            " [0. 1. 0. 1. 0. 1. 0. 1.]\n",
            " [1. 0. 1. 0. 1. 0. 1. 0.]]\n"
          ],
          "name": "stdout"
        }
      ]
    },
    {
      "cell_type": "markdown",
      "metadata": {
        "id": "zuzQWflWFklo",
        "colab_type": "text"
      },
      "source": [
        "# 4. Normalize a 5x5 random matrix"
      ]
    },
    {
      "cell_type": "code",
      "metadata": {
        "id": "ucIbPNXLFkls",
        "colab_type": "code",
        "colab": {
          "base_uri": "https://localhost:8080/",
          "height": 207
        },
        "outputId": "4a8ca14c-acd9-44bb-864a-6dd46932d04c"
      },
      "source": [
        " \n",
        "import numpy as np\n",
        "x= np.random.random((4,3))\n",
        "print(\"Original Array:\")\n",
        "print(x)\n",
        "xmax, xmin = x.max(), x.min()\n",
        "x = (x - xmin)/(xmax - xmin)\n",
        "print(\"After normalization:\")\n",
        "print(x)"
      ],
      "execution_count": null,
      "outputs": [
        {
          "output_type": "stream",
          "text": [
            "Original Array:\n",
            "[[0.65508221 0.64323343 0.13663789]\n",
            " [0.69315475 0.80231825 0.07419496]\n",
            " [0.85981003 0.34240383 0.93056001]\n",
            " [0.92273987 0.60368041 0.67113505]]\n",
            "After normalization:\n",
            "[[0.67831732 0.6644812  0.07291625]\n",
            " [0.72277564 0.85024872 0.        ]\n",
            " [0.91738339 0.31319455 1.        ]\n",
            " [0.99086822 0.61829409 0.69706265]]\n"
          ],
          "name": "stdout"
        }
      ]
    },
    {
      "cell_type": "markdown",
      "metadata": {
        "id": "4s41uxMYFkl-",
        "colab_type": "text"
      },
      "source": [
        "# 5.  How to find common values between two arrays?"
      ]
    },
    {
      "cell_type": "code",
      "metadata": {
        "id": "__yAVrbuFkmB",
        "colab_type": "code",
        "colab": {
          "base_uri": "https://localhost:8080/",
          "height": 139
        },
        "outputId": "ad82bb4e-a7e4-4621-a0f2-d56d6968a47d"
      },
      "source": [
        " \n",
        "import numpy as np\n",
        "array1 = np.array([[0, 10, 20], [40, 60,50]])\n",
        "print(\"Array1: \",array1)\n",
        "array2 = np.array([[80,20,90],[10, 30, 40]])\n",
        "print(\"Array2: \",array2)\n",
        "print(\"Common values between two arrays:\")\n",
        "print(np.intersect1d(array1, array2))"
      ],
      "execution_count": null,
      "outputs": [
        {
          "output_type": "stream",
          "text": [
            "Array1:  [[ 0 10 20]\n",
            " [40 60 50]]\n",
            "Array2:  [[80 20 90]\n",
            " [10 30 40]]\n",
            "Common values between two arrays:\n",
            "[10 20 40]\n"
          ],
          "name": "stdout"
        }
      ]
    },
    {
      "cell_type": "markdown",
      "metadata": {
        "id": "N65oRCYlFkmT",
        "colab_type": "text"
      },
      "source": [
        "# 6.How to get the dates of yesterday, today and tomorrow?"
      ]
    },
    {
      "cell_type": "code",
      "metadata": {
        "id": "ax41TeRMFkmX",
        "colab_type": "code",
        "colab": {
          "base_uri": "https://localhost:8080/",
          "height": 68
        },
        "outputId": "e6907cb9-70ff-412f-a6ee-5fd77e0ede4f"
      },
      "source": [
        " \n",
        "import datetime \n",
        "today = datetime.date.today()\n",
        "yesterday = today - datetime.timedelta(days = 1)\n",
        "tomorrow = today + datetime.timedelta(days = 1) \n",
        "print('Yesterday : ',yesterday)\n",
        "print('Today : ',today)\n",
        "print('Tomorrow : ',tomorrow)"
      ],
      "execution_count": null,
      "outputs": [
        {
          "output_type": "stream",
          "text": [
            "Yesterday :  2020-07-27\n",
            "Today :  2020-07-28\n",
            "Tomorrow :  2020-07-29\n"
          ],
          "name": "stdout"
        }
      ]
    },
    {
      "cell_type": "markdown",
      "metadata": {
        "id": "Cd1HkkJJFkmq",
        "colab_type": "text"
      },
      "source": [
        "# 7. Consider two random array A and B, check if they are equal"
      ]
    },
    {
      "cell_type": "code",
      "metadata": {
        "id": "Q3wA0CtqFkmu",
        "colab_type": "code",
        "colab": {
          "base_uri": "https://localhost:8080/",
          "height": 139
        },
        "outputId": "3b74394b-d5c5-4af5-d63d-7dbe5f9e5f19"
      },
      "source": [
        " \n",
        "import numpy as np\n",
        "x = np.random.randint(0,10,6)\n",
        "print(\"First array:\")\n",
        "print(x)\n",
        "y = np.random.randint(0,10,6)\n",
        "print(\"Second array:\")\n",
        "print(y)\n",
        "print(\"Test above two arrays are equal or not!\")\n",
        "array_equal = np.allclose(x, y)\n",
        "print(array_equal)"
      ],
      "execution_count": null,
      "outputs": [
        {
          "output_type": "stream",
          "text": [
            "First array:\n",
            "[5 5 3 3 0 0]\n",
            "Second array:\n",
            "[6 6 4 4 0 9]\n",
            "Test above two arrays are equal or not!\n",
            "False\n"
          ],
          "name": "stdout"
        }
      ]
    },
    {
      "cell_type": "markdown",
      "metadata": {
        "id": "yI2ZLmd8Fkm_",
        "colab_type": "text"
      },
      "source": [
        "# 8.Create random vector of size 10 and replace the maximum value by 0 "
      ]
    },
    {
      "cell_type": "code",
      "metadata": {
        "id": "ygJyuJ48FknC",
        "colab_type": "code",
        "colab": {
          "base_uri": "https://localhost:8080/",
          "height": 85
        },
        "outputId": "a735b7f0-262e-4f0d-9931-5982b4ef086c"
      },
      "source": [
        " \n",
        "import numpy as np\n",
        "x = np.random.randint(0,10,10)\n",
        "print(\"Original array:\")\n",
        "print(x)\n",
        "x[x.argmax()] = 0\n",
        "print(\"Maximum value replaced by 0:\")\n",
        "print(x)"
      ],
      "execution_count": null,
      "outputs": [
        {
          "output_type": "stream",
          "text": [
            "Original array:\n",
            "[1 9 0 6 4 8 2 6 3 6]\n",
            "Maximum value replaced by 0:\n",
            "[1 0 0 6 4 8 2 6 3 6]\n"
          ],
          "name": "stdout"
        }
      ]
    },
    {
      "cell_type": "markdown",
      "metadata": {
        "id": "_PVtyjoxFknS",
        "colab_type": "text"
      },
      "source": [
        "# 9. How to print all the values of an array?"
      ]
    },
    {
      "cell_type": "code",
      "metadata": {
        "id": "SPlbDvjWFknV",
        "colab_type": "code",
        "colab": {
          "base_uri": "https://localhost:8080/",
          "height": 221
        },
        "outputId": "2b8cb771-39fe-4c5e-8013-6f76377c5b8b"
      },
      "source": [
        "import numpy as np\n",
        "C=np.array([[1,3,2],[2,6,7],[9,2,5],[2,1,4]])\n",
        "for row in C:\n",
        " for Val in row:\n",
        "  print('{:3}'.format(Val))"
      ],
      "execution_count": null,
      "outputs": [
        {
          "output_type": "stream",
          "text": [
            "  1\n",
            "  3\n",
            "  2\n",
            "  2\n",
            "  6\n",
            "  7\n",
            "  9\n",
            "  2\n",
            "  5\n",
            "  2\n",
            "  1\n",
            "  4\n"
          ],
          "name": "stdout"
        }
      ]
    },
    {
      "cell_type": "markdown",
      "metadata": {
        "id": "UAvRYV-jFknm",
        "colab_type": "text"
      },
      "source": [
        "# 10.Subtract the mean of each row of a matrix"
      ]
    },
    {
      "cell_type": "code",
      "metadata": {
        "id": "_rJGL1lCFknp",
        "colab_type": "code",
        "colab": {
          "base_uri": "https://localhost:8080/",
          "height": 224
        },
        "outputId": "f2ac9885-9be4-485f-dee1-87c5d3174d83"
      },
      "source": [
        " \n",
        "import numpy as np\n",
        "print(\"Original matrix:\\n\")\n",
        "Arr = np.array([[1,4,8],[9,10,2],[4,2,8]])\n",
        "print(Arr)\n",
        "print(\"\\nSubtract the mean of each row of the said matrix:\\n\")\n",
        "Y = Arr - Arr.mean(axis=1,keepdims=True)\n",
        "print(Y)"
      ],
      "execution_count": null,
      "outputs": [
        {
          "output_type": "stream",
          "text": [
            "Original matrix:\n",
            "\n",
            "[[ 1  4  8]\n",
            " [ 9 10  2]\n",
            " [ 4  2  8]]\n",
            "\n",
            "Subtract the mean of each row of the said matrix:\n",
            "\n",
            "[[-3.33333333 -0.33333333  3.66666667]\n",
            " [ 2.          3.         -5.        ]\n",
            " [-0.66666667 -2.66666667  3.33333333]]\n"
          ],
          "name": "stdout"
        }
      ]
    },
    {
      "cell_type": "markdown",
      "metadata": {
        "id": "gUbyAeiSFkn8",
        "colab_type": "text"
      },
      "source": [
        "# 11.Consider a given vector, how to add 1 to each element indexed by a second vector (be careful with repeated indices)? "
      ]
    },
    {
      "cell_type": "code",
      "metadata": {
        "id": "zPCh8bzOFkox",
        "colab_type": "code",
        "colab": {
          "base_uri": "https://localhost:8080/",
          "height": 34
        },
        "outputId": "16e397c4-0ffc-4359-ce03-11a34ddc3f3a"
      },
      "source": [
        "import numpy as np\n",
        "N=np.ones(10)\n",
        "I=np.random.randint(0,len(N),20)\n",
        "N+=np.bincount(I,minlength=len(N))\n",
        "print(N)"
      ],
      "execution_count": null,
      "outputs": [
        {
          "output_type": "stream",
          "text": [
            "[4. 3. 3. 5. 2. 2. 3. 4. 2. 2.]\n"
          ],
          "name": "stdout"
        }
      ]
    },
    {
      "cell_type": "markdown",
      "metadata": {
        "id": "9rghbmP9FkpX",
        "colab_type": "text"
      },
      "source": [
        "# 12.How to get the diagonal of a dot product?"
      ]
    },
    {
      "cell_type": "code",
      "metadata": {
        "id": "jL49qgwPFkpb",
        "colab_type": "code",
        "colab": {
          "base_uri": "https://localhost:8080/",
          "height": 68
        },
        "outputId": "b828564f-e5e6-49f8-9873-2d4dbde439c0"
      },
      "source": [
        "import numpy as np\n",
        "A = np.array([[1,3,4],[8,7,3]])\n",
        "B = np.array([[5,3],[2,4],[1,7]])\n",
        "print(\"After dot product: \",np.dot(A,B))\n",
        "print(np.diag(np.dot(A,B)))"
      ],
      "execution_count": null,
      "outputs": [
        {
          "output_type": "stream",
          "text": [
            "After dot product:  [[15 43]\n",
            " [57 73]]\n",
            "[15 73]\n"
          ],
          "name": "stdout"
        }
      ]
    },
    {
      "cell_type": "markdown",
      "metadata": {
        "id": "e_ZZiu6zFkpu",
        "colab_type": "text"
      },
      "source": [
        "# 13.How to find the most frequent value in an array?"
      ]
    },
    {
      "cell_type": "code",
      "metadata": {
        "id": "zMxqiExvFkpx",
        "colab_type": "code",
        "colab": {
          "base_uri": "https://localhost:8080/",
          "height": 105
        },
        "outputId": "023fe2fe-5dae-4f47-9f5f-fd3bb0139db3"
      },
      "source": [
        " \n",
        "import numpy as np\n",
        "x = np.random.randint(0, 10, 20)\n",
        "print(\"Original array:\")\n",
        "print(x)\n",
        "print(\"Most frequent value in the above array:\")\n",
        "print(np.bincount(x).argmax())"
      ],
      "execution_count": null,
      "outputs": [
        {
          "output_type": "stream",
          "text": [
            "Original array:\n",
            "[2 3 8 1 4 3 9 3 2 1 6 2 2 6 7 5 2 2 2 7]\n",
            "Most frequent value in the above array:\n",
            "2\n"
          ],
          "name": "stdout"
        }
      ]
    },
    {
      "cell_type": "markdown",
      "metadata": {
        "id": "ko8BtrTqFkqB",
        "colab_type": "text"
      },
      "source": [
        "# 14.How to get the n largest values of an array"
      ]
    },
    {
      "cell_type": "code",
      "metadata": {
        "id": "msXc2rKtFkqF",
        "colab_type": "code",
        "colab": {
          "base_uri": "https://localhost:8080/",
          "height": 105
        },
        "outputId": "a1b424e2-1bdd-464f-87fa-b3479d276c3c"
      },
      "source": [
        " \n",
        "import numpy as np\n",
        "N = int(input(\"Enter the length of the array\"))\n",
        "x = np.arange(N)\n",
        "print(\"Original array:\")\n",
        "print(x)\n",
        "np.random.shuffle(x)\n",
        "n = 1\n",
        "print (x[np.argsort(x)[-n:]])"
      ],
      "execution_count": null,
      "outputs": [
        {
          "output_type": "stream",
          "text": [
            "Enter the length of the array12\n",
            "Original array:\n",
            "[ 0  1  2  3  4  5  6  7  8  9 10 11]\n",
            "[11]\n"
          ],
          "name": "stdout"
        }
      ]
    },
    {
      "cell_type": "markdown",
      "metadata": {
        "id": "wXhx6s8jFkqX",
        "colab_type": "text"
      },
      "source": [
        "# 15.How to create a record array from a regular array?"
      ]
    },
    {
      "cell_type": "code",
      "metadata": {
        "id": "Xr4_JJPSFkqb",
        "colab_type": "code",
        "colab": {
          "base_uri": "https://localhost:8080/",
          "height": 68
        },
        "outputId": "33643546-d52d-43d1-e2d0-41ba71caf919"
      },
      "source": [
        " \n",
        "import numpy as np\n",
        "a1=np.array([1,2,3,4])\n",
        "a2=np.array([12,10,9,3])\n",
        "a3=np.array([12.20,15,20,40])\n",
        "result= np.core.records.fromarrays([a1, a2, a3],names='a,b,c')\n",
        "print(result[0])\n",
        "print(result[1])\n",
        "print(result[2])"
      ],
      "execution_count": null,
      "outputs": [
        {
          "output_type": "stream",
          "text": [
            "(1, 12, 12.2)\n",
            "(2, 10, 15.)\n",
            "(3, 9, 20.)\n"
          ],
          "name": "stdout"
        }
      ]
    }
  ]
}