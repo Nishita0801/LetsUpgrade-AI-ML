{
  "nbformat": 4,
  "nbformat_minor": 0,
  "metadata": {
    "colab": {
      "name": "day5.ipynb",
      "provenance": []
    },
    "kernelspec": {
      "name": "python3",
      "display_name": "Python 3"
    }
  },
  "cells": [
    {
      "cell_type": "markdown",
      "metadata": {
        "id": "bcCumVoE_KDs",
        "colab_type": "text"
      },
      "source": [
        "**Question 1 :**\n",
        "Write a Python program to find the first 20 non-even prime natural numbers.\n"
      ]
    },
    {
      "cell_type": "code",
      "metadata": {
        "id": "t9xYjkH9eMnB",
        "colab_type": "code",
        "colab": {}
      },
      "source": [
        "lower = 1\n",
        "upper = 100\n",
        "l = []\n",
        "print(\"Prime numbers between\", lower, \"and\", upper, \"are:\")\n",
        "\n",
        "for num in range(lower, upper + 1):\n",
        
        "   if num > 1:\n",
        "       for i in range(2, num):\n",
        "           if (num % i) == 0:\n",
        "               break\n",
        "       else:\n",
        "           l.append(num)\n",
        "n = l[1:21]\n",
        "for y in n:\n",
        "  print(y, end=\" \")\n"
      ],
      "execution_count": null,
      "outputs": []
    },
    {
      "cell_type": "markdown",
      "metadata": {
        "id": "JO16k0-E8M8K",
        "colab_type": "text"
      },
      "source": [
        "**Question 2 :**\n",
        "Write a Python program to implement 15 functions of string.\n"
      ]
    },
    {
      "cell_type": "code",
      "metadata": {
        "id": "Ta2aNmhB8ZNo",
        "colab_type": "code",
        "colab": {}
      },
      "source": [
        "a = 'Nishita Agarwal'\n",
        "\n",
        "print(\"String in uppercase\\t\",a.upper())\n",
        "print(\"String in lowercase\\t\",a.lower())\n",
        "print(\"String in capital\\t\",a.capitalize())\n",
        "print(\"String after swapping\\t\",a.swapcase())\n",
        "print(\"String as a title\\t\",a.title())\n",
        "print(\"lenght of string is\\t\",len(a))\n",
        "print(\"wheather string have digit or not\\t\", a.isdigit())\n",
        "print(\"count the no. of g in the string\\t\",a.count(\"g\"))\n",
        "print(\"find the position of n in the string\\t\",a.find('n'))\n",
        "print(\"string having space or not\\t\",a.isspace())\n",
        "print(\"create a new string of specified length from the source string with right justification:   \",a.rjust(20))\n",
        "print(\"create a new string of specified length from the source string with left justification:    \",a.ljust(20))\n",
        "print(\"{0} like {1} and {2}\".format(a,\"Java\", \"Python\"))\n",
        "print(\"string with a space separation\\t\",a.split(sep=' '))\n",
        "print(\"string after replacing 'a' with 'z'\\t\",a.replace('a', 'z', 3))"
      ],
      "execution_count": null,
      "outputs": []
    },
    {
      "cell_type": "markdown",
      "metadata": {
        "id": "BrQN8dg0BqXa",
        "colab_type": "text"
      },
      "source": [
        "**Question 3:**\n",
        "Write a Python program to check if the given string is a Palindrome or Anagram or None of them.\n",
        "Display the message accordingly to the user.\n"
      ]
    },
    {
      "cell_type": "code",
      "metadata": {
        "id": "YYChiOclBpMV",
        "colab_type": "code",
        "colab": {}
      },
      "source": [
        "string1 = str(input(\"Enter the string : \\t \"))\n",
        "if string1 == string1[::-1]:\n",
        "  print(\"String is Palindrome\")\n",
        "\n",
        "else:\n",
        "  string2 = str(input(\"enter the another string : \\t\"))\n",
        "  if sorted(string1) == sorted(string2) :\n",
        "    print(\"Strings are Anagram\")\n",
        "  else:\n",
        "    print(\"Strings are neither Palindrome nor Anagram\")\n"
      ],
      "execution_count": null,
      "outputs": []
    },
    {
      "cell_type": "markdown",
      "metadata": {
        "id": "BgCZzouYERWN",
        "colab_type": "text"
      },
      "source": [
        "**Question 4:**\n",
        "Write a Python's user defined function that removes all the additional characters from the string\n",
        "and converts it finally to lower case using built-in lower(). eg: If the string is \"Dr. Darshan Ingle\n",
        "@AI-ML Trainer\", then the output be \"drdarshaningleaimltrainer\"."
      ]
    },
    {
      "cell_type": "code",
      "metadata": {
        "id": "xKgI-DEaEbBG",
        "colab_type": "code",
        "colab": {}
      },
      "source": [
        "s = input(\"Enter the string\")\n",
        "final_string = ''\n",
        "for i in s :\n",
        "  if i.isalnum():\n",
        "    final_string += i\n",
        "print(final_string.lower()) "
      ],
      "execution_count": null,
      "outputs": []
    }
  ]
}
